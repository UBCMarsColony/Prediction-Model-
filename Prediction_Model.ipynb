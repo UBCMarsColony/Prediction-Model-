{
 "cells": [
  {
   "cell_type": "code",
   "execution_count": 35,
   "metadata": {},
   "outputs": [],
   "source": [
    "library(tidyverse)\n",
    "library(forcats)"
   ]
  },
  {
   "cell_type": "code",
   "execution_count": 45,
   "metadata": {},
   "outputs": [
    {
     "name": "stderr",
     "output_type": "stream",
     "text": [
      "Parsed with column specification:\n",
      "cols(\n",
      "  Branch_no = \u001b[31mcol_character()\u001b[39m,\n",
      "  LRT = \u001b[32mcol_double()\u001b[39m,\n",
      "  GST = \u001b[32mcol_double()\u001b[39m\n",
      ")\n"
     ]
    }
   ],
   "source": [
    "prediction_data <- read_csv(\"prediction.csv\",skip=1)\n"
   ]
  },
  {
   "cell_type": "code",
   "execution_count": 68,
   "metadata": {},
   "outputs": [
    {
     "data": {
      "text/html": [
       "<table>\n",
       "<caption>A data.frame: 48 × 3</caption>\n",
       "<thead>\n",
       "\t<tr><th scope=col>LRT</th><th scope=col>GST</th><th scope=col>Class</th></tr>\n",
       "\t<tr><th scope=col>&lt;dbl&gt;</th><th scope=col>&lt;dbl&gt;</th><th scope=col>&lt;fct&gt;</th></tr>\n",
       "</thead>\n",
       "<tbody>\n",
       "\t<tr><td>20</td><td> 1</td><td>A</td></tr>\n",
       "\t<tr><td>23</td><td> 2</td><td>A</td></tr>\n",
       "\t<tr><td>23</td><td> 3</td><td>A</td></tr>\n",
       "\t<tr><td>22</td><td> 3</td><td>A</td></tr>\n",
       "\t<tr><td>22</td><td> 6</td><td>A</td></tr>\n",
       "\t<tr><td>22</td><td> 7</td><td>A</td></tr>\n",
       "\t<tr><td>22</td><td> 8</td><td>A</td></tr>\n",
       "\t<tr><td>23</td><td> 9</td><td>A</td></tr>\n",
       "\t<tr><td>21</td><td>12</td><td>A</td></tr>\n",
       "\t<tr><td>21</td><td>19</td><td>A</td></tr>\n",
       "\t<tr><td>23</td><td>20</td><td>A</td></tr>\n",
       "\t<tr><td>24</td><td>21</td><td>A</td></tr>\n",
       "\t<tr><td>23</td><td> 1</td><td>B</td></tr>\n",
       "\t<tr><td>31</td><td> 2</td><td>B</td></tr>\n",
       "\t<tr><td>32</td><td> 4</td><td>B</td></tr>\n",
       "\t<tr><td>32</td><td>13</td><td>B</td></tr>\n",
       "\t<tr><td>33</td><td>14</td><td>B</td></tr>\n",
       "\t<tr><td>33</td><td>18</td><td>B</td></tr>\n",
       "\t<tr><td>32</td><td>13</td><td>B</td></tr>\n",
       "\t<tr><td>23</td><td> 1</td><td>B</td></tr>\n",
       "\t<tr><td>33</td><td>14</td><td>B</td></tr>\n",
       "\t<tr><td>31</td><td> 2</td><td>B</td></tr>\n",
       "\t<tr><td>32</td><td> 4</td><td>B</td></tr>\n",
       "\t<tr><td>33</td><td>18</td><td>B</td></tr>\n",
       "\t<tr><td>32</td><td> 1</td><td>C</td></tr>\n",
       "\t<tr><td>34</td><td> 2</td><td>C</td></tr>\n",
       "\t<tr><td>35</td><td> 4</td><td>C</td></tr>\n",
       "\t<tr><td>31</td><td>10</td><td>C</td></tr>\n",
       "\t<tr><td>32</td><td>15</td><td>C</td></tr>\n",
       "\t<tr><td>35</td><td>18</td><td>C</td></tr>\n",
       "\t<tr><td>34</td><td> 2</td><td>C</td></tr>\n",
       "\t<tr><td>32</td><td> 1</td><td>C</td></tr>\n",
       "\t<tr><td>32</td><td>15</td><td>C</td></tr>\n",
       "\t<tr><td>32</td><td> 1</td><td>C</td></tr>\n",
       "\t<tr><td>32</td><td>15</td><td>C</td></tr>\n",
       "\t<tr><td>31</td><td>10</td><td>C</td></tr>\n",
       "\t<tr><td>21</td><td> 1</td><td>D</td></tr>\n",
       "\t<tr><td>22</td><td> 2</td><td>D</td></tr>\n",
       "\t<tr><td>50</td><td> 5</td><td>D</td></tr>\n",
       "\t<tr><td>51</td><td>11</td><td>D</td></tr>\n",
       "\t<tr><td>52</td><td>16</td><td>D</td></tr>\n",
       "\t<tr><td>53</td><td>17</td><td>D</td></tr>\n",
       "\t<tr><td>55</td><td>18</td><td>D</td></tr>\n",
       "\t<tr><td>50</td><td> 5</td><td>D</td></tr>\n",
       "\t<tr><td>50</td><td> 5</td><td>D</td></tr>\n",
       "\t<tr><td>50</td><td> 5</td><td>D</td></tr>\n",
       "\t<tr><td>21</td><td> 1</td><td>D</td></tr>\n",
       "\t<tr><td>22</td><td> 2</td><td>D</td></tr>\n",
       "</tbody>\n",
       "</table>\n"
      ],
      "text/latex": [
       "A data.frame: 48 × 3\n",
       "\\begin{tabular}{r|lll}\n",
       " LRT & GST & Class\\\\\n",
       " <dbl> & <dbl> & <fct>\\\\\n",
       "\\hline\n",
       "\t 20 &  1 & A\\\\\n",
       "\t 23 &  2 & A\\\\\n",
       "\t 23 &  3 & A\\\\\n",
       "\t 22 &  3 & A\\\\\n",
       "\t 22 &  6 & A\\\\\n",
       "\t 22 &  7 & A\\\\\n",
       "\t 22 &  8 & A\\\\\n",
       "\t 23 &  9 & A\\\\\n",
       "\t 21 & 12 & A\\\\\n",
       "\t 21 & 19 & A\\\\\n",
       "\t 23 & 20 & A\\\\\n",
       "\t 24 & 21 & A\\\\\n",
       "\t 23 &  1 & B\\\\\n",
       "\t 31 &  2 & B\\\\\n",
       "\t 32 &  4 & B\\\\\n",
       "\t 32 & 13 & B\\\\\n",
       "\t 33 & 14 & B\\\\\n",
       "\t 33 & 18 & B\\\\\n",
       "\t 32 & 13 & B\\\\\n",
       "\t 23 &  1 & B\\\\\n",
       "\t 33 & 14 & B\\\\\n",
       "\t 31 &  2 & B\\\\\n",
       "\t 32 &  4 & B\\\\\n",
       "\t 33 & 18 & B\\\\\n",
       "\t 32 &  1 & C\\\\\n",
       "\t 34 &  2 & C\\\\\n",
       "\t 35 &  4 & C\\\\\n",
       "\t 31 & 10 & C\\\\\n",
       "\t 32 & 15 & C\\\\\n",
       "\t 35 & 18 & C\\\\\n",
       "\t 34 &  2 & C\\\\\n",
       "\t 32 &  1 & C\\\\\n",
       "\t 32 & 15 & C\\\\\n",
       "\t 32 &  1 & C\\\\\n",
       "\t 32 & 15 & C\\\\\n",
       "\t 31 & 10 & C\\\\\n",
       "\t 21 &  1 & D\\\\\n",
       "\t 22 &  2 & D\\\\\n",
       "\t 50 &  5 & D\\\\\n",
       "\t 51 & 11 & D\\\\\n",
       "\t 52 & 16 & D\\\\\n",
       "\t 53 & 17 & D\\\\\n",
       "\t 55 & 18 & D\\\\\n",
       "\t 50 &  5 & D\\\\\n",
       "\t 50 &  5 & D\\\\\n",
       "\t 50 &  5 & D\\\\\n",
       "\t 21 &  1 & D\\\\\n",
       "\t 22 &  2 & D\\\\\n",
       "\\end{tabular}\n"
      ],
      "text/markdown": [
       "\n",
       "A data.frame: 48 × 3\n",
       "\n",
       "| LRT &lt;dbl&gt; | GST &lt;dbl&gt; | Class &lt;fct&gt; |\n",
       "|---|---|---|\n",
       "| 20 |  1 | A |\n",
       "| 23 |  2 | A |\n",
       "| 23 |  3 | A |\n",
       "| 22 |  3 | A |\n",
       "| 22 |  6 | A |\n",
       "| 22 |  7 | A |\n",
       "| 22 |  8 | A |\n",
       "| 23 |  9 | A |\n",
       "| 21 | 12 | A |\n",
       "| 21 | 19 | A |\n",
       "| 23 | 20 | A |\n",
       "| 24 | 21 | A |\n",
       "| 23 |  1 | B |\n",
       "| 31 |  2 | B |\n",
       "| 32 |  4 | B |\n",
       "| 32 | 13 | B |\n",
       "| 33 | 14 | B |\n",
       "| 33 | 18 | B |\n",
       "| 32 | 13 | B |\n",
       "| 23 |  1 | B |\n",
       "| 33 | 14 | B |\n",
       "| 31 |  2 | B |\n",
       "| 32 |  4 | B |\n",
       "| 33 | 18 | B |\n",
       "| 32 |  1 | C |\n",
       "| 34 |  2 | C |\n",
       "| 35 |  4 | C |\n",
       "| 31 | 10 | C |\n",
       "| 32 | 15 | C |\n",
       "| 35 | 18 | C |\n",
       "| 34 |  2 | C |\n",
       "| 32 |  1 | C |\n",
       "| 32 | 15 | C |\n",
       "| 32 |  1 | C |\n",
       "| 32 | 15 | C |\n",
       "| 31 | 10 | C |\n",
       "| 21 |  1 | D |\n",
       "| 22 |  2 | D |\n",
       "| 50 |  5 | D |\n",
       "| 51 | 11 | D |\n",
       "| 52 | 16 | D |\n",
       "| 53 | 17 | D |\n",
       "| 55 | 18 | D |\n",
       "| 50 |  5 | D |\n",
       "| 50 |  5 | D |\n",
       "| 50 |  5 | D |\n",
       "| 21 |  1 | D |\n",
       "| 22 |  2 | D |\n",
       "\n"
      ],
      "text/plain": [
       "   LRT GST Class\n",
       "1  20   1  A    \n",
       "2  23   2  A    \n",
       "3  23   3  A    \n",
       "4  22   3  A    \n",
       "5  22   6  A    \n",
       "6  22   7  A    \n",
       "7  22   8  A    \n",
       "8  23   9  A    \n",
       "9  21  12  A    \n",
       "10 21  19  A    \n",
       "11 23  20  A    \n",
       "12 24  21  A    \n",
       "13 23   1  B    \n",
       "14 31   2  B    \n",
       "15 32   4  B    \n",
       "16 32  13  B    \n",
       "17 33  14  B    \n",
       "18 33  18  B    \n",
       "19 32  13  B    \n",
       "20 23   1  B    \n",
       "21 33  14  B    \n",
       "22 31   2  B    \n",
       "23 32   4  B    \n",
       "24 33  18  B    \n",
       "25 32   1  C    \n",
       "26 34   2  C    \n",
       "27 35   4  C    \n",
       "28 31  10  C    \n",
       "29 32  15  C    \n",
       "30 35  18  C    \n",
       "31 34   2  C    \n",
       "32 32   1  C    \n",
       "33 32  15  C    \n",
       "34 32   1  C    \n",
       "35 32  15  C    \n",
       "36 31  10  C    \n",
       "37 21   1  D    \n",
       "38 22   2  D    \n",
       "39 50   5  D    \n",
       "40 51  11  D    \n",
       "41 52  16  D    \n",
       "42 53  17  D    \n",
       "43 55  18  D    \n",
       "44 50   5  D    \n",
       "45 50   5  D    \n",
       "46 50   5  D    \n",
       "47 21   1  D    \n",
       "48 22   2  D    "
      ]
     },
     "metadata": {},
     "output_type": "display_data"
    }
   ],
   "source": [
    "prediction_data"
   ]
  },
  {
   "cell_type": "code",
   "execution_count": 51,
   "metadata": {},
   "outputs": [],
   "source": [
    "prediction_data <- prediction_data %>% \n",
    "  mutate(Branch_no = as.factor(Branch_no))"
   ]
  },
  {
   "cell_type": "code",
   "execution_count": 54,
   "metadata": {},
   "outputs": [
    {
     "data": {
      "image/png": "[encoded data removed]",
      "text/plain": [
       "plot without title"
      ]
     },
     "metadata": {},
     "output_type": "display_data"
    }
   ],
   "source": [
    "\n",
    "prediction_plot <- prediction_data %>%  \n",
    "  ggplot(aes(x = GST, y = LRT, color = Branch_no)) + \n",
    "    geom_point(alpha = 0.5) +\n",
    "    labs(x= \"GST\", y= \"LRT\", color = \"Branch No.\")\n",
    "prediction_plot"
   ]
  },
  {
   "cell_type": "code",
   "execution_count": 55,
   "metadata": {},
   "outputs": [
    {
     "name": "stderr",
     "output_type": "stream",
     "text": [
      "Loading required package: lattice\n",
      "\n",
      "Attaching package: ‘caret’\n",
      "\n",
      "The following object is masked from ‘package:purrr’:\n",
      "\n",
      "    lift\n",
      "\n"
     ]
    }
   ],
   "source": [
    "library(caret)"
   ]
  },
  {
   "cell_type": "code",
   "execution_count": 56,
   "metadata": {},
   "outputs": [
    {
     "data": {
      "text/html": [
       "<table>\n",
       "<caption>A tibble: 6 × 2</caption>\n",
       "<thead>\n",
       "\t<tr><th scope=col>LRT</th><th scope=col>GST</th></tr>\n",
       "\t<tr><th scope=col>&lt;dbl&gt;</th><th scope=col>&lt;dbl&gt;</th></tr>\n",
       "</thead>\n",
       "<tbody>\n",
       "\t<tr><td>20</td><td>1</td></tr>\n",
       "\t<tr><td>23</td><td>1</td></tr>\n",
       "\t<tr><td>32</td><td>1</td></tr>\n",
       "\t<tr><td>21</td><td>1</td></tr>\n",
       "\t<tr><td>23</td><td>2</td></tr>\n",
       "\t<tr><td>34</td><td>2</td></tr>\n",
       "</tbody>\n",
       "</table>\n"
      ],
      "text/latex": [
       "A tibble: 6 × 2\n",
       "\\begin{tabular}{r|ll}\n",
       " LRT & GST\\\\\n",
       " <dbl> & <dbl>\\\\\n",
       "\\hline\n",
       "\t 20 & 1\\\\\n",
       "\t 23 & 1\\\\\n",
       "\t 32 & 1\\\\\n",
       "\t 21 & 1\\\\\n",
       "\t 23 & 2\\\\\n",
       "\t 34 & 2\\\\\n",
       "\\end{tabular}\n"
      ],
      "text/markdown": [
       "\n",
       "A tibble: 6 × 2\n",
       "\n",
       "| LRT &lt;dbl&gt; | GST &lt;dbl&gt; |\n",
       "|---|---|\n",
       "| 20 | 1 |\n",
       "| 23 | 1 |\n",
       "| 32 | 1 |\n",
       "| 21 | 1 |\n",
       "| 23 | 2 |\n",
       "| 34 | 2 |\n",
       "\n"
      ],
      "text/plain": [
       "  LRT GST\n",
       "1 20  1  \n",
       "2 23  1  \n",
       "3 32  1  \n",
       "4 21  1  \n",
       "5 23  2  \n",
       "6 34  2  "
      ]
     },
     "metadata": {},
     "output_type": "display_data"
    }
   ],
   "source": [
    "prediction_train <- prediction_data %>%\n",
    "  select(\"LRT\", \"GST\")\n",
    "head(prediction_train)"
   ]
  },
  {
   "cell_type": "code",
   "execution_count": 59,
   "metadata": {},
   "outputs": [
    {
     "data": {
      "text/html": [
       "<dl class=dl-horizontal>\n",
       "\t<dt>Branch_no1</dt>\n",
       "\t\t<dd>A</dd>\n",
       "\t<dt>Branch_no2</dt>\n",
       "\t\t<dd>B</dd>\n",
       "\t<dt>Branch_no3</dt>\n",
       "\t\t<dd>C</dd>\n",
       "\t<dt>Branch_no4</dt>\n",
       "\t\t<dd>D</dd>\n",
       "\t<dt>Branch_no5</dt>\n",
       "\t\t<dd>A</dd>\n",
       "\t<dt>Branch_no6</dt>\n",
       "\t\t<dd>C</dd>\n",
       "</dl>\n",
       "\n",
       "<details>\n",
       "\t<summary style=display:list-item;cursor:pointer>\n",
       "\t\t<strong>Levels</strong>:\n",
       "\t</summary>\n",
       "\t<ol class=list-inline>\n",
       "\t\t<li>'A'</li>\n",
       "\t\t<li>'B'</li>\n",
       "\t\t<li>'C'</li>\n",
       "\t\t<li>'D'</li>\n",
       "\t</ol>\n",
       "</details>"
      ],
      "text/latex": [
       "\\begin{description*}\n",
       "\\item[Branch\\textbackslash{}\\_no1] A\n",
       "\\item[Branch\\textbackslash{}\\_no2] B\n",
       "\\item[Branch\\textbackslash{}\\_no3] C\n",
       "\\item[Branch\\textbackslash{}\\_no4] D\n",
       "\\item[Branch\\textbackslash{}\\_no5] A\n",
       "\\item[Branch\\textbackslash{}\\_no6] C\n",
       "\\end{description*}\n",
       "\n",
       "\\emph{Levels}: \\begin{enumerate*}\n",
       "\\item 'A'\n",
       "\\item 'B'\n",
       "\\item 'C'\n",
       "\\item 'D'\n",
       "\\end{enumerate*}\n"
      ],
      "text/markdown": [
       "Branch_no1\n",
       ":   ABranch_no2\n",
       ":   BBranch_no3\n",
       ":   CBranch_no4\n",
       ":   DBranch_no5\n",
       ":   ABranch_no6\n",
       ":   C\n",
       "\n",
       "\n",
       "**Levels**: 1. 'A'\n",
       "2. 'B'\n",
       "3. 'C'\n",
       "4. 'D'\n",
       "\n",
       "\n"
      ],
      "text/plain": [
       "Branch_no1 Branch_no2 Branch_no3 Branch_no4 Branch_no5 Branch_no6 \n",
       "         A          B          C          D          A          C \n",
       "Levels: A B C D"
      ]
     },
     "metadata": {},
     "output_type": "display_data"
    }
   ],
   "source": [
    "prediction_labels <- prediction_data %>% \n",
    "  select(Branch_no) %>% \n",
    "  unlist()\n",
    "head(prediction_labels)"
   ]
  },
  {
   "cell_type": "code",
   "execution_count": 60,
   "metadata": {},
   "outputs": [],
   "source": [
    "k <- data.frame(k = 5)\n",
    "model_knn <- train(x = data.frame(prediction_train), y = prediction_labels, method='knn', tuneGrid = k)"
   ]
  },
  {
   "cell_type": "code",
   "execution_count": 66,
   "metadata": {},
   "outputs": [
    {
     "data": {
      "image/png": "[encoded data removed]",
      "text/plain": [
       "plot without title"
      ]
     },
     "metadata": {},
     "output_type": "display_data"
    }
   ],
   "source": [
    "prediction_plot +\n",
    "geom_point(x=5,y=32, aes(size=4))"
   ]
  },
  {
   "cell_type": "code",
   "execution_count": 67,
   "metadata": {},
   "outputs": [
    {
     "data": {
      "text/html": [
       "C\n",
       "<details>\n",
       "\t<summary style=display:list-item;cursor:pointer>\n",
       "\t\t<strong>Levels</strong>:\n",
       "\t</summary>\n",
       "\t<ol class=list-inline>\n",
       "\t\t<li>'A'</li>\n",
       "\t\t<li>'B'</li>\n",
       "\t\t<li>'C'</li>\n",
       "\t\t<li>'D'</li>\n",
       "\t</ol>\n",
       "</details>"
      ],
      "text/latex": [
       "C\n",
       "\\emph{Levels}: \\begin{enumerate*}\n",
       "\\item 'A'\n",
       "\\item 'B'\n",
       "\\item 'C'\n",
       "\\item 'D'\n",
       "\\end{enumerate*}\n"
      ],
      "text/markdown": [
       "C\n",
       "**Levels**: 1. 'A'\n",
       "2. 'B'\n",
       "3. 'C'\n",
       "4. 'D'\n",
       "\n",
       "\n"
      ],
      "text/plain": [
       "[1] C\n",
       "Levels: A B C D"
      ]
     },
     "metadata": {},
     "output_type": "display_data"
    }
   ],
   "source": [
    "new_obs <- data.frame(LRT = 32, GST = 5)\n",
    "predict(object = model_knn, new_obs)"
   ]
  }
 ],
 "metadata": {
  "kernelspec": {
   "display_name": "R",
   "language": "R",
   "name": "ir"
  },
  "language_info": {
   "codemirror_mode": "r",
   "file_extension": ".r",
   "mimetype": "text/x-r-source",
   "name": "R",
   "pygments_lexer": "r",
   "version": "3.6.1"
  }
 },
 "nbformat": 4,
 "nbformat_minor": 2
}
